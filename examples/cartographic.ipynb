{
 "cells": [
  {
   "cell_type": "markdown",
   "id": "4b5506eb-50a4-49b2-ad9b-4705b7e24c9e",
   "metadata": {},
   "source": [
    "# Cartographic Rendering\n",
    "\n",
    "Display a geospatial dataset with lat/lon coordinates in a cartographic 3D reference with [GeoVista](https://github.com/bjlittle/geovista)\n",
    "\n",
    "Requires the following pull requests:\n",
    "    \n",
    "- PyVista algorithm support: https://github.com/pyvista/pyvista/pull/3318\n",
    "- GeoVista algorithm support: https://github.com/bjlittle/geovista/pull/127\n",
    "- PyVista NaN opacity: https://github.com/pyvista/pyvista/pull/3556\n",
    "- Better support with trame: https://github.com/pyvista/pyvista/pull/3385"
   ]
  },
  {
   "cell_type": "code",
   "execution_count": null,
   "id": "b64a0184-4e78-4210-aa06-bac22fccebf3",
   "metadata": {},
   "outputs": [],
   "source": [
    "import geovista as gv\n",
    "import pyvista as pv\n",
    "from pvxarray.vtk_source import PyVistaXarraySource\n",
    "import xarray as xr"
   ]
  },
  {
   "cell_type": "code",
   "execution_count": null,
   "id": "72fe0f0a-ea1a-4fc3-a120-f728c22ce518",
   "metadata": {},
   "outputs": [],
   "source": [
    "# Requires https://github.com/pyvista/pyvista/pull/3385\n",
    "pv.set_jupyter_backend(\"trame-server\")"
   ]
  },
  {
   "cell_type": "code",
   "execution_count": null,
   "id": "7768eaf7-44e2-4e56-8070-557228de9511",
   "metadata": {},
   "outputs": [],
   "source": [
    "# Download https://www.ncei.noaa.gov/products/optimum-interpolation-sst\n",
    "ds = xr.open_dataset(\"oisst-avhrr-v02r01.19810901.nc\")\n",
    "da = ds.err\n",
    "source = PyVistaXarraySource(da, x=\"lon\", y=\"lat\", z=\"zlev\", time=\"time\", resolution=1.0)"
   ]
  },
  {
   "cell_type": "code",
   "execution_count": null,
   "id": "d0e2fb68-d103-480c-88a7-a95efbd91fac",
   "metadata": {},
   "outputs": [],
   "source": [
    "plotter = gv.GeoPlotter()\n",
    "# Requires https://github.com/pyvista/pyvista/pull/3318 and https://github.com/bjlittle/geovista/pull/127\n",
    "actor = plotter.add_mesh(\n",
    "    source,\n",
    "    cmap=\"coolwarm\",\n",
    "    show_edges=True,\n",
    "    # Requires https://github.com/pyvista/pyvista/pull/3556\n",
    "    nan_opacity=0,\n",
    ")\n",
    "basemap_actor = plotter.add_base_layer(texture=gv.blue_marble())\n",
    "resolution = \"10m\"\n",
    "plotter.add_coastlines(resolution=resolution, color=\"white\")\n",
    "plotter.enable_depth_peeling()\n",
    "plotter.view_isometric()\n",
    "plotter.show()"
   ]
  },
  {
   "cell_type": "code",
   "execution_count": null,
   "id": "bea8d6b4-e26f-4612-86da-62ca70fe3982",
   "metadata": {},
   "outputs": [],
   "source": []
  }
 ],
 "metadata": {
  "kernelspec": {
   "display_name": "Python 3 (ipykernel)",
   "language": "python",
   "name": "python3"
  },
  "language_info": {
   "codemirror_mode": {
    "name": "ipython",
    "version": 3
   },
   "file_extension": ".py",
   "mimetype": "text/x-python",
   "name": "python",
   "nbconvert_exporter": "python",
   "pygments_lexer": "ipython3",
   "version": "3.9.13"
  }
 },
 "nbformat": 4,
 "nbformat_minor": 5
}
